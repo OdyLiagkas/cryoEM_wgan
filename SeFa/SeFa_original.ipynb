{
 "cells": [
  {
   "cell_type": "markdown",
   "metadata": {
    "id": "qJDJLE3v0HNr"
   },
   "source": [
    "# Fetch Codebase"
   ]
  },
  {
   "cell_type": "code",
   "execution_count": 1,
   "metadata": {
    "cellView": "form",
    "id": "JqiWKjpFa0ov"
   },
   "outputs": [
    {
     "data": {
      "text/plain": [
       "'/home/o.liagkas/projects/SeFa/sefa-original'"
      ]
     },
     "execution_count": 1,
     "metadata": {},
     "output_type": "execute_result"
    }
   ],
   "source": [
    "#@title\n",
    "import os\n",
    "#os.chdir('/content')\n",
    "#CODE_DIR = 'sefa'\n",
    "#!git clone https://github.com/genforce/sefa.git $CODE_DIR\n",
    "#os.chdir(f'./{CODE_DIR}')\n",
    "os.chdir(\"./sefa-original\")\n",
    "os.getcwd()"
   ]
  },
  {
   "cell_type": "markdown",
   "metadata": {
    "id": "hQ_IXBZr8YcJ"
   },
   "source": [
    "# Define Utility Functions"
   ]
  },
  {
   "cell_type": "code",
   "execution_count": 2,
   "metadata": {
    "cellView": "form",
    "id": "ijKTlG5GeTd3"
   },
   "outputs": [],
   "source": [
    "#@title\n",
    "import os.path\n",
    "import io\n",
    "import IPython.display\n",
    "import numpy as np\n",
    "import cv2\n",
    "import PIL.Image\n",
    "\n",
    "import torch\n",
    "\n",
    "from models import parse_gan_type\n",
    "from utils import to_tensor\n",
    "from utils import postprocess\n",
    "from utils import load_generator\n",
    "from utils import factorize_weight\n",
    "\n",
    "\n",
    "def sample(generator, gan_type, num=1, seed=0):\n",
    "  \"\"\"Samples latent codes.\"\"\"\n",
    "  torch.manual_seed(seed)\n",
    "  codes = torch.randn(num, generator.z_space_dim).cuda()\n",
    "  if gan_type == 'pggan':\n",
    "    codes = generator.layer0.pixel_norm(codes)\n",
    "  elif gan_type == 'stylegan':\n",
    "    codes = generator.mapping(codes)['w']\n",
    "    codes = generator.truncation(codes, trunc_psi=0.7, trunc_layers=8)\n",
    "  elif gan_type == 'stylegan2':\n",
    "    codes = generator.mapping(codes)['w']\n",
    "    codes = generator.truncation(codes, trunc_psi=0.5, trunc_layers=18)\n",
    "  codes = codes.detach().cpu().numpy()\n",
    "  return codes\n",
    "\n",
    "\n",
    "def synthesize(generator, gan_type, codes):\n",
    "  \"\"\"Synthesizes images with the give codes.\"\"\"\n",
    "  if gan_type == 'pggan':\n",
    "    images = generator(to_tensor(codes))['image']\n",
    "  elif gan_type in ['stylegan', 'stylegan2']:\n",
    "    images = generator.synthesis(to_tensor(codes))['image']\n",
    "  images = postprocess(images)\n",
    "  return images\n",
    "\n",
    "\n",
    "def imshow(images, col, viz_size=256):\n",
    "  \"\"\"Shows images in one figure.\"\"\"\n",
    "  num, height, width, channels = images.shape\n",
    "  assert num % col == 0\n",
    "  row = num // col\n",
    "\n",
    "  fused_image = np.zeros((viz_size * row, viz_size * col, channels), dtype=np.uint8)\n",
    "\n",
    "  for idx, image in enumerate(images):\n",
    "    i, j = divmod(idx, col)\n",
    "    y = i * viz_size\n",
    "    x = j * viz_size\n",
    "    if height != viz_size or width != viz_size:\n",
    "      image = cv2.resize(image, (viz_size, viz_size))\n",
    "    fused_image[y:y + viz_size, x:x + viz_size] = image\n",
    "\n",
    "  fused_image = np.asarray(fused_image, dtype=np.uint8)\n",
    "  data = io.BytesIO()\n",
    "  PIL.Image.fromarray(fused_image).save(data, 'jpeg')\n",
    "  im_data = data.getvalue()\n",
    "  disp = IPython.display.display(IPython.display.Image(im_data))\n",
    "  return disp"
   ]
  },
  {
   "cell_type": "markdown",
   "metadata": {
    "id": "Q7gkmrVW8eR1"
   },
   "source": [
    "# Select a Model"
   ]
  },
  {
   "cell_type": "code",
   "execution_count": 3,
   "metadata": {
    "id": "NoWI4fPQ6Gnf"
   },
   "outputs": [
    {
     "name": "stdout",
     "output_type": "stream",
     "text": [
      "Building generator for model `pggan_bottle256` ...\n",
      "Finish building generator.\n",
      "Loading checkpoint from `checkpoints/pggan_bottle256.pth` ...\n",
      "Finish loading checkpoint.\n"
     ]
    }
   ],
   "source": [
    "#@title { display-mode: \"form\", run: \"auto\" }\n",
    "model_name = \"pggan_bottle256\" #@param ['stylegan_animeface512', 'stylegan_car512', 'stylegan_cat256', 'pggan_celebahq1024', 'stylegan_bedroom256']\n",
    "\n",
    "generator = load_generator(model_name)\n",
    "gan_type = parse_gan_type(generator)"
   ]
  },
  {
   "cell_type": "code",
   "execution_count": 13,
   "metadata": {},
   "outputs": [
    {
     "data": {
      "text/plain": [
       "ConvBlock(\n",
       "  (pixel_norm): PixelNormLayer()\n",
       "  (upsample): Identity()\n",
       "  (activate): LeakyReLU(negative_slope=0.2, inplace=True)\n",
       ")"
      ]
     },
     "execution_count": 13,
     "metadata": {},
     "output_type": "execute_result"
    }
   ],
   "source": [
    "generator.layer0"
   ]
  },
  {
   "cell_type": "code",
   "execution_count": 12,
   "metadata": {},
   "outputs": [
    {
     "data": {
      "text/plain": [
       "torch.Size([512, 512, 4, 4])"
      ]
     },
     "execution_count": 12,
     "metadata": {},
     "output_type": "execute_result"
    }
   ],
   "source": [
    "generator.__getattr__('layer0').weight.shape"
   ]
  },
  {
   "cell_type": "markdown",
   "metadata": {
    "id": "zDStH1O5t1KC"
   },
   "source": [
    "# Sample Latent Codes"
   ]
  },
  {
   "cell_type": "code",
   "execution_count": 4,
   "metadata": {
    "id": "qlRGKZbJt9hA"
   },
   "outputs": [
    {
     "name": "stdout",
     "output_type": "stream",
     "text": [
      "(3, 512)\n",
      "(3, 256, 256, 3)\n"
     ]
    },
    {
     "data": {
      "image/jpeg": "[encoded data removed]",
      "text/plain": [
       "<IPython.core.display.Image object>"
      ]
     },
     "metadata": {},
     "output_type": "display_data"
    }
   ],
   "source": [
    "#@title { display-mode: \"form\", run: \"auto\" }\n",
    "\n",
    "num_samples = 3 #@param {type:\"slider\", min:1, max:8, step:1}\n",
    "noise_seed = 0 #@param {type:\"slider\", min:0, max:1000, step:1}\n",
    "\n",
    "codes = sample(generator, gan_type, num_samples, noise_seed)\n",
    "print(codes.shape)\n",
    "images = synthesize(generator, gan_type, codes)\n",
    "print(images.shape)\n",
    "imshow(images, col=num_samples)"
   ]
  },
  {
   "cell_type": "markdown",
   "metadata": {
    "id": "MmRPN3xz8jCH"
   },
   "source": [
    "# Factorize & Edit"
   ]
  },
  {
   "cell_type": "code",
   "execution_count": 15,
   "metadata": {
    "id": "ccONBF60mVir"
   },
   "outputs": [
    {
     "data": {
      "image/jpeg": "[encoded data removed]",
      "text/plain": [
       "<IPython.core.display.Image object>"
      ]
     },
     "metadata": {},
     "output_type": "display_data"
    }
   ],
   "source": [
    "#@title { display-mode: \"form\", run: \"auto\" }\n",
    "\n",
    "layer_idx = \"0\" #@param ['all', '0-1', '2-5', '6-13']\n",
    "semantic_1 = 0 #@param {type:\"slider\", min:-3.0, max:3.0, step:0.1}\n",
    "semantic_2 = -3 #@param {type:\"slider\", min:-3.0, max:3.0, step:0.1}\n",
    "semantic_3 = -3 #@param {type:\"slider\", min:-3.0, max:3.0, step:0.1}\n",
    "semantic_4 = 0 #@param {type:\"slider\", min:-3.0, max:3.0, step:0.1}\n",
    "semantic_5 = 0 #@param {type:\"slider\", min:-3.0, max:3.0, step:0.1}\n",
    "\n",
    "# Fast implementation to factorize the weight by SeFa.\n",
    "layers, boundaries, _ = factorize_weight(generator, layer_idx)\n",
    "\n",
    "new_codes = codes.copy()\n",
    "for sem_idx in range(5):\n",
    "  boundary = boundaries[sem_idx:sem_idx + 1]\n",
    "  step = eval(f'semantic_{sem_idx + 1}')\n",
    "  if gan_type == 'pggan':\n",
    "    new_codes += boundary * step\n",
    "  elif gan_type in ['stylegan', 'stylegan2']:\n",
    "    new_codes[:, layers, :] += boundary * step\n",
    "new_images = synthesize(generator, gan_type, new_codes)\n",
    "imshow(new_images, col=num_samples)"
   ]
  },
  {
   "cell_type": "code",
   "execution_count": 6,
   "metadata": {},
   "outputs": [
    {
     "data": {
      "application/vnd.jupyter.widget-view+json": {
       "model_id": "2f351a0f1c57450da2196e81be987e55",
       "version_major": 2,
       "version_minor": 0
      },
      "text/plain": [
       "interactive(children=(Dropdown(description='Layer Index:', index=1, options=('all', '0-1', '2-5', '6-13'), val…"
      ]
     },
     "metadata": {},
     "output_type": "display_data"
    },
    {
     "data": {
      "text/plain": [
       "<function __main__.update_visual(layer_idx, semantic_1, semantic_2, semantic_3, semantic_4, semantic_5)>"
      ]
     },
     "execution_count": 6,
     "metadata": {},
     "output_type": "execute_result"
    }
   ],
   "source": [
    "import ipywidgets as widgets\n",
    "from ipywidgets import interact\n",
    "from IPython.display import clear_output\n",
    "\n",
    "# Define your layer and semantic controls as interactive widgets\n",
    "layer_idx = widgets.Dropdown(\n",
    "    options=['all', '0-1', '2-5', '6-13'],\n",
    "    value='0-1',\n",
    "    description='Layer Index:',\n",
    ")\n",
    "\n",
    "semantic_1 = widgets.FloatSlider(\n",
    "    value=0,\n",
    "    min=-3.0,\n",
    "    max=3.0,\n",
    "    step=0.1,\n",
    "    description='Semantic 1:',\n",
    "    continuous_update=True,\n",
    ")\n",
    "\n",
    "semantic_2 = widgets.FloatSlider(\n",
    "    value=0,\n",
    "    min=-3.0,\n",
    "    max=3.0,\n",
    "    step=0.1,\n",
    "    description='Semantic 2:',\n",
    "    continuous_update=True,\n",
    ")\n",
    "\n",
    "semantic_3 = widgets.FloatSlider(\n",
    "    value=0,\n",
    "    min=-3.0,\n",
    "    max=3.0,\n",
    "    step=0.1,\n",
    "    description='Semantic 3:',\n",
    "    continuous_update=True,\n",
    ")\n",
    "\n",
    "semantic_4 = widgets.FloatSlider(\n",
    "    value=0,\n",
    "    min=-3.0,\n",
    "    max=3.0,\n",
    "    step=0.1,\n",
    "    description='Semantic 4:',\n",
    "    continuous_update=True,\n",
    ")\n",
    "\n",
    "semantic_5 = widgets.FloatSlider(\n",
    "    value=0,\n",
    "    min=-3.0,\n",
    "    max=3.0,\n",
    "    step=0.1,\n",
    "    description='Semantic 5:',\n",
    "    continuous_update=True,\n",
    ")\n",
    "\n",
    "# Define a function that will update the visuals in real-time\n",
    "def update_visual(layer_idx, semantic_1, semantic_2, semantic_3, semantic_4, semantic_5):\n",
    "    clear_output(wait=True)  # Clear previous output to update in real time\n",
    "\n",
    "    '''\n",
    "    # Display the selected values\n",
    "    print(f'Layer Index: {layer_idx}')\n",
    "    print(f'Semantic 1: {semantic_1}')\n",
    "    print(f'Semantic 2: {semantic_2}')\n",
    "    print(f'Semantic 3: {semantic_3}')\n",
    "    print(f'Semantic 4: {semantic_4}')\n",
    "    print(f'Semantic 5: {semantic_5}')\n",
    "    '''\n",
    "    # Fast implementation to factorize the weight by SeFa.\n",
    "    layers, boundaries, _ = factorize_weight(generator, layer_idx)\n",
    "\n",
    "    new_codes = codes.copy()\n",
    "    for sem_idx, step in enumerate([semantic_1, semantic_2, semantic_3, semantic_4, semantic_5]):\n",
    "        boundary = boundaries[sem_idx:sem_idx + 1]\n",
    "        if gan_type == 'pggan':\n",
    "            new_codes += boundary * step\n",
    "        elif gan_type in ['stylegan', 'stylegan2']:\n",
    "            new_codes[:, layers, :] += boundary * step\n",
    "    new_images = synthesize(generator, gan_type, new_codes)\n",
    "    imshow(new_images, col=num_samples)\n",
    "\n",
    "# Use `interact` to create the interactive UI and trigger `update_visual`\n",
    "interact(update_visual, \n",
    "         layer_idx=layer_idx, \n",
    "         semantic_1=semantic_1, \n",
    "         semantic_2=semantic_2, \n",
    "         semantic_3=semantic_3, \n",
    "         semantic_4=semantic_4, \n",
    "         semantic_5=semantic_5)\n"
   ]
  }
 ],
 "metadata": {
  "accelerator": "GPU",
  "colab": {
   "collapsed_sections": [],
   "name": "SeFa",
   "provenance": [],
   "toc_visible": true
  },
  "kernelspec": {
   "display_name": "Python 3 (ipykernel)",
   "language": "python",
   "name": "python3"
  },
  "language_info": {
   "codemirror_mode": {
    "name": "ipython",
    "version": 3
   },
   "file_extension": ".py",
   "mimetype": "text/x-python",
   "name": "python",
   "nbconvert_exporter": "python",
   "pygments_lexer": "ipython3",
   "version": "3.8.20"
  }
 },
 "nbformat": 4,
 "nbformat_minor": 4
}
